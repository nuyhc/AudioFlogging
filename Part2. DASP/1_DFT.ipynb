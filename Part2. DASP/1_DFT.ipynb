{
 "cells": [
  {
   "attachments": {},
   "cell_type": "markdown",
   "metadata": {},
   "source": [
    "# **DFT (Discrete Fourier Transform)**\n",
    "\n",
    "- 푸리에 변환은 시간 도메인의 함수를 주파수 도메인의 함수로 변환하는 과정을 말합니다. DFT는 이산신호의 푸리에 변환입니다. 이산시간에 대한 신호와 이산 주파수 신호 간의 변환을 수행합니다. 이러한 변환을 통해 각 프레임이 어떤 주파수 성분을 가지고 있는지 확인할 수 있습니다.  \n",
    "\n",
    "![Untitled](DSP_1/DFT_.png)\n",
    "  \n",
    "**DFT, CTFT, DTFT 비교**   \n",
    "\n",
    "CTFT: 연속 시간 -> 연속 주파수\n",
    "\n",
    "DTFT: 이산 시간 -> 연속 주파수\n",
    "\n",
    "DFT: 이산 시간 -> 이산 주파수\n",
    "\n",
    "컴퓨터는 연속된 값을 처리 할 수 없습니다. 연속된 값을 표현하기 위해서는 값을 무한하게 쪼개야 하기 때문에 컴퓨터로 표현이 불가능합니다. 그래서 연속이 아닌 이산적인 값을 다뤄줘야합니다.  \n",
    "\n",
    "즉 연속 시간 신호를 연속 주파수로 변환하는 CTFT와 이산 시간을 연속 주파수로 변환하는 DTFT 모두 컴퓨터에서는 불가능한 변환 방법입니다. 그래서 DTFT에서 주파수를 샘플링해서 이산 주파수로 변환하는 방법을 사용해야하고 이를 DFT라고합니다.  \n",
    "\n",
    "**-FFT(Fast Fourier Transform)**  \n",
    "\n",
    "FFT는 DFT를 연산하는 알고리즘종류입니다. FFT는 필요한 신호만 골라서 빠르게 연산이 가능하도록 합니다. DFT의 속도는 O(N2)로 연산량이 많습니다. 반면 FFT는 O(nlogn)으로 적은 연산량으로도 변환을 할 수 있게 해줍니다.  DFT가 구현되어 있는 파이썬 라이브러리에서도 이러한 이유로 FFT를 사용합니다.  \n",
    "\n",
    "### 간단한 사인파 파이썬 구현 및 분석\n",
    "\n",
    "- 구현1 - 간단한 복합파에 FFT를 수행합니다.\n"
   ]
  },
  {
   "cell_type": "code",
   "execution_count": null,
   "metadata": {},
   "outputs": [],
   "source": [
    "## 구현1\n",
    "\n",
    "import numpy as np\n",
    "from matplotlib import pyplot as plt\n",
    "\n",
    "def sin_wave(amp, freq, time):\n",
    "    return amp*np.sin(2*np.pi*freq*time)\n",
    "\n",
    "time = np.arange(0, 10, 0.01)                       ## 1초까지 시간을 0.01초 간격으로 샘플링\n",
    "\n",
    "sin1 = sin_wave(amp= 2, freq= 1, time= time)       ## 서로 다른 진폭과 주파수를 가지는 간단한 사인파\n",
    "sin2 = sin_wave(4, 10, time)\n",
    "sin3 = sin_wave(8, 20, time)\n",
    "\n",
    "complex_wav1 = sin1 + sin2 + sin3                   ## 사인파 합치기\n",
    "\n",
    "plt.figure(figsize = (12,4))\n",
    "plt.xlabel('Time')\n",
    "plt.ylabel('Amplitude')\n",
    "plt.plot(complex_wav1)"
   ]
  },
  {
   "cell_type": "markdown",
   "metadata": {},
   "source": [
    "![Untitled](DSP_1/complex_wav1.png)"
   ]
  },
  {
   "cell_type": "code",
   "execution_count": null,
   "metadata": {},
   "outputs": [],
   "source": []
  }
 ],
 "metadata": {
  "kernelspec": {
   "display_name": "base",
   "language": "python",
   "name": "python3"
  },
  "language_info": {
   "codemirror_mode": {
    "name": "ipython",
    "version": 3
   },
   "file_extension": ".py",
   "mimetype": "text/x-python",
   "name": "python",
   "nbconvert_exporter": "python",
   "pygments_lexer": "ipython3",
   "version": "3.8.11"
  },
  "orig_nbformat": 4,
  "vscode": {
   "interpreter": {
    "hash": "a10651024f7bb74ad8b3a7880b38bbb6e915f32f23f7415cc617a62eadb9eb91"
   }
  }
 },
 "nbformat": 4,
 "nbformat_minor": 2
}
