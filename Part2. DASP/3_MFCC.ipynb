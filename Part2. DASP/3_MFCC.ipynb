{
 "cells": [
  {
   "attachments": {},
   "cell_type": "markdown",
   "metadata": {},
   "source": [
    "# MFCC(**Mel-Frequency Cepstral Coefficient)**\n",
    "\n",
    "### **1.1 MFCC란**\n",
    "\n",
    "MFCC는 오디오 신호에서 특징(feature)를 추출해주는 알고리즘입니다. 인간이 소리를 인지하는 원리를 적용하여 소리의 고유한 특징을 가지는 벡터를 추출하면 이 과정에서  불필요한 정보는 버려지고 음성데이터의 중요한 특질만 남게됩니다.\n",
    "\n",
    "MFCC는 음성 인식, 분류, 분리등의 다양한 음성 도메인 분야에서 사용되며 좋은 Feature를 뽑는것은 학습을 용이하게 해주고 모델 성능에 큰 영향을 미치게됩니다.\n",
    "\n",
    "### **1.2 mel scale**\n",
    "\n",
    "MFCC는 신경망기반 특징 추출 방법이 아닌 인간의 소리 인지 과정을 본딴 결정론적(deterministic) 음성 도메인 지식 기반의 특징 추출 방법입니다.  이를 이해하기 위해서는 Mel scale의 대한 이해가 선행되어야합니다.\n",
    "\n",
    "인간은 내이의 달팽이관을 통해 소리를 인식하게 되는데 달팽이관에 있는 기저막은 주파수에 따라 다른 위치가 진동하게 됩니다. 이를 통해 인간은 주파수에 따라 소리를 분리하여 인식할 수 있게 됩니다. 또한 달팽이관은 낮은 주파수 대역에서는 주파수 변화에 민감하게 반응하지만  높은 주파수 대역에서는 주파수 변화를 잘 알아차리지 못합니다. Mel scale은 이러한 주파수를 인지하는 기준을 적용한 scale 변환 함수입니다.\n",
    "\n",
    "### **1.3 MFCC 과정**\n",
    "\n",
    "MFCC는 다음과 같은 과정으로 추출됩니다.\n",
    "\n",
    "Audio signal(wavform) ->  Pre-Emphasis -> Framing, windowing -> DFT -> Mel Filter Bank -> log, IDFT(Cepstral) ## 이미지로 표현\n",
    "\n",
    "**Pre-Emphasis**\n",
    "\n",
    "High-pass Filter를 통해 고주파 성분을 강조해주는 과정입니다.\n",
    "\n",
    "사람이 말할때 저주파에 비해 고주파 성분이 많이 줄어들어서 나옵니다.\n",
    "\n",
    "사람 말소리의 스펙트럼을 살펴보면 고주파의 에너지가 더 낮은 것을 확인할 수 있습니다. 이러한 불균형을 해결하기 위해 고주파 성분의 에너지를 올려줌으로  균등한 에너지 분포를 가지게 만들고 음성인식의 성능을 높혀주는 단계입니다.\n",
    "\n",
    "다음 수식을 적용합니다. a값은 0.95 혹은 0.97을 사용합니다.\n",
    "\n",
    "**Framing, Windowing**\n",
    "\n",
    "- STFT 참고\n",
    "\n",
    "**Discrete Fourier Transform**\n",
    "\n",
    "- DFT 참고\n",
    "\n",
    "**Mel Filter Bank**\n",
    "\n",
    "Mel scale 적용해 Mel 값을 얻는 과정입니다. N개의 필터를 저주파수 영역부터 고주파수 영역까지 적용하면, 각 주파수 구간의 N개 Mel값이 나오게 됩니다. Mel Filter Bank까지 통과한 특징을 Mel-Spectrogram이라 부릅니다.\n",
    "\n",
    "**Log, IDCT(Inverse Discrete Cosine Transform)**\n",
    "\n",
    "Mel-Spectrogram에 로그를 취해 Log-Mel-Spectrogram을 만듭니다. 이는 실제로 사람이 소리를 인식할때 Log scale로 인식하기 때문입니다. 예를들어 두 배 큰 소리로 인식되는 소리는 실제로 100배정도 큰 에너지를 가지고 있습니다.\n",
    "\n",
    "마지막으로 Log-Mel-Spectrogram에 IDCT연산을 합니다. IDCT는 스펙트럼을 켑스트럼으로 변환해줍니다. 이 과정에서 스펙트럼에서 가지고 있는 주파수끼리의 상관관계가 없어지게 됩니다. IDCT 연산까지 끝낸 결과를 MFCC라고 합니다.\n",
    "\n",
    "### 파이썬 구현"
   ]
  },
  {
   "cell_type": "code",
   "execution_count": null,
   "metadata": {},
   "outputs": [],
   "source": [
    "import matplotlib.pyplot as plt\n",
    "import librosa.display\n",
    "import librosa\n",
    "import numpy as np\n",
    "\n",
    "path = 'Audio_sample.wav'\n",
    "\n",
    "sig, sr = librosa.load(path)\n",
    "mfcc = librosa.feature.mfcc(sig,sr=sr, n_mfcc=20)\n",
    "\n",
    "plt.figure(figsize=(12, 4))\n",
    "librosa.display.specshow(mfcc)\n",
    "plt.ylabel('MFCC coeffs')\n",
    "plt.xlabel('Time')\n",
    "plt.title('MFCC')\n",
    "plt.colorbar()\n",
    "plt.tight_layout()"
   ]
  },
  {
   "attachments": {},
   "cell_type": "markdown",
   "metadata": {},
   "source": [
    "![Untitled](DSP_1/mfcc.png)\n",
    "\n",
    "### 1.4 Mel-Spectrogram vs MFCC"
   ]
  }
 ],
 "metadata": {
  "kernelspec": {
   "display_name": "base",
   "language": "python",
   "name": "python3"
  },
  "language_info": {
   "name": "python",
   "version": "3.8.11 (default, Aug 16 2021, 12:04:33) \n[Clang 12.0.0 ]"
  },
  "orig_nbformat": 4,
  "vscode": {
   "interpreter": {
    "hash": "a10651024f7bb74ad8b3a7880b38bbb6e915f32f23f7415cc617a62eadb9eb91"
   }
  }
 },
 "nbformat": 4,
 "nbformat_minor": 2
}
